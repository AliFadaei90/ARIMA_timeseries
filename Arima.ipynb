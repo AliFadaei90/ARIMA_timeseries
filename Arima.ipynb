# ARIMA_timeseries
import io
import os
import requests
import datetime
import warnings
import winsound
import itertools
import matplotlib
import statistics 
import numpy as np
import pandas as pd
from numpy import zeros
from pathlib import Path
from pylab import rcParams
import statsmodels.api as sm
import matplotlib.pyplot as plt
from colorama import Fore, Back, Style 
from bokeh.plotting import figure, show, output_file
warnings.filterwarnings("ignore")
plt.style.use('fivethirtyeight')
matplotlib.rcParams['axes.labelsize'] = 14
matplotlib.rcParams['xtick.labelsize'] = 12
matplotlib.rcParams['ytick.labelsize'] = 12
matplotlib.rcParams['text.color'] = 'k'
print('TimeFrames : H1, H4, D1, W1, MN')
timeframe01=input('Enter The TimeFrame :',)
timeframe1=str(timeframe01).upper()
direction1=str("C:\\Users\\ali\\AppData\\Roaming\\MetaQuotes\\Terminal\\287469DEA9630EA94D0715D755974F1B\\MQL4\\Files\\TF-"+timeframe1)
currencies0 = os.listdir(direction1)    
currencies = list(filter(lambda f: f.endswith('.csv'), currencies0))
numcurrencies=len(currencies)
print(Fore.BLACK +'---------------------------List of All Currencies----------------------------')
print(Fore.BLACK +'The Number of Total Currencies is :'+' ' ,numcurrencies)
currencies

#SAMPLE CURRENCY FOR DATA CALCULATION--------------------------------------------------------------------------------
def find_files(filename, search_path):
   result = []

   for root, dir, files in os.walk(search_path):
      if filename in files:
         result.append(os.path.join(root, filename))
   return result

filepathsample=find_files(currencies[1],direction1)
print(Fore.BLACK +'---------------------------sample Data------------------------------------')
print(Fore.BLACK +'The Name of Sample Currency is    :'+' ',currencies[1])
sample=pd.read_csv(filepathsample[0])
daynumbersample=sample.shape[0]
todaysample=datetime.datetime(datetime.datetime.now().year,datetime.datetime.now().month,datetime.datetime.now().day)
sample['Date']= pd.DataFrame(pd.date_range(end=todaysample, periods=daynumbersample, freq='D'))
print(Fore.BLACK +'Days of total data :',sample.shape[0])
#FIRST & LAST DATA-----------------------------------------------------------------
Firstsample=sample['Date'].min()
Fsample=pd.to_datetime(Firstsample)
Lastsample=sample['Date'].max()
Lsample=pd.to_datetime(Lastsample)
print(Fore.BLACK +'----------------------------First & Last date-----------------------------')
print(Fore.BLACK +'First date is : ' , Firstsample)
print(Fore.BLACK +'Last date is  : ' , Lastsample)

#DEFINE START-------------------------------------------------------------------------------------------
start0test=input('Enter the start date for choose the Currency : ')
starttest=int(start0test)
#DEFINE PREDICTION--------------------------------------------------------------------------------------
ahead0=input('Enter the candles ahead for prediction in Test : ')
ahead=int(ahead0)
#SAVING DATA--------------------------------------------------------------------------------------------
mseES=zeros((numcurrencies,4))
errES=zeros((numcurrencies,4))
position=zeros((numcurrencies,4))
positionlist=zeros((numcurrencies,1))
pos1=-1
errordade=-1
Ei=0
#-------------------------------------------------------------------------------------------------------
#SELECT THE BEST CURRENCY-------------------------------------------------------------------------------
for E in currencies:
    Ei=Ei+1
    def find_files(filename, search_path):
       result = []

       for root, dir, files in os.walk(search_path):
          if filename in files:
             result.append(os.path.join(root, filename))
       return result

    filepathE=find_files(E,direction1)
    print(Fore.BLACK +'---------------------------The file is in this directory------------------------')
    print(Fore.BLACK +filepathE[0])
    print(E)
    #---------------------------------------------------------------------------------------------------
    indice0OpenE=pd.read_csv(filepathE[0],usecols=(0,2))
    indice0HighE=pd.read_csv(filepathE[0],usecols=(0,3))
    indice0LowE=pd.read_csv(filepathE[0],usecols=(0,4))
    indice0CloseE=pd.read_csv(filepathE[0],usecols=(0,5))
    #---------------------------------------------------------------------------------------------------
    daynumberE=indice0CloseE.shape[0]
    todayE=datetime.datetime(datetime.datetime.now().year,
                             datetime.datetime.now().month,
                             datetime.datetime.now().day)
    #---------------------------------------------------------------------------------------------------
    indice0OpenE['Date']= pd.DataFrame(pd.date_range(end=todayE, periods=daynumberE, freq='D'))
    indice0HighE['Date']= pd.DataFrame(pd.date_range(end=todayE, periods=daynumberE, freq='D'))
    indice0LowE['Date']= pd.DataFrame(pd.date_range(end=todayE, periods=daynumberE, freq='D'))
    indice0CloseE['Date']= pd.DataFrame(pd.date_range(end=todayE, periods=daynumberE, freq='D'))
    #---------------------------------------------------------------------------------------------------
    print(Fore.BLACK +'-------------------------------',Ei,E,'------------------------------------')
    print(Fore.BLACK +'Days of Simulation is :',daynumberE-starttest)
    FirstE=indice0CloseE['Date'].min()
    FE=pd.to_datetime(FirstE)
    LastE=indice0CloseE['Date'].max()
    LE=pd.to_datetime(LastE)
    #REGROUP AND SET THE DATA---------------------------------------------------------------------------
    indice1OpenE=pd.DataFrame(data=indice0OpenE.values[starttest:daynumberE,:],columns=['Date','Open'])
    indice1HighE=pd.DataFrame(data=indice0HighE.values[starttest:daynumberE,:],columns=['Date','High'])
    indice1LowE=pd.DataFrame(data=indice0LowE.values[starttest:daynumberE,:],columns=['Date','Low'])
    indice1CloseE=pd.DataFrame(data=indice0CloseE.values[starttest:daynumberE,:],columns=['Date','Close'])
    #---------------------------------------------------------------------------------------------------
    indiceOpenE=indice1OpenE.sort_values('Date',ascending=True)
    indiceHighE=indice1HighE.sort_values('Date',ascending=True)
    indiceLowE=indice1LowE.sort_values('Date',ascending=True)
    indiceCloseE=indice1CloseE.sort_values('Date',ascending=True)
    #---------------------------------------------------------------------------------------------------
    indiceOpE = indiceOpenE.groupby('Date')['Open'].sum().reset_index()
    indiceHiE = indiceHighE.groupby('Date')['High'].sum().reset_index()
    indiceLoE = indiceLowE.groupby('Date')['Low'].sum().reset_index()
    indiceClE = indiceCloseE.groupby('Date')['Close'].sum().reset_index()
    #---------------------------------------------------------------------------------------------------
    indiceOE=indiceOpE.set_index('Date')
    indiceHE=indiceHiE.set_index('Date')
    indiceLE=indiceLoE.set_index('Date')
    indiceCE=indiceClE.set_index('Date')
    #---------------------------------------------------------------------------------------------------
    yOE = indiceOE['Open'].resample('D').mean()
    yHE = indiceHE['High'].resample('D').mean()
    yLE = indiceLE['Low'].resample('D').mean()
    yCE = indiceCE['Close'].resample('D').mean()
    #ARIMA TIME SERIES----------------------------------------------------------------------------------
    pE = dE = qE = range(0, 2)
    pdqE = list(itertools.product(pE, dE, qE))
    seasonal_pdqE = [(x[0], x[1], x[2], 12) for x in list(itertools.product(pE, dE, qE))]
    #TIME SERIES PLOTS----------------------------------------------------------------------------------
    rcParams['figure.figsize'] = 18, 8
    decompositionOE = sm.tsa.seasonal_decompose(yOE, model='additive')
    decompositionHE = sm.tsa.seasonal_decompose(yHE, model='additive')
    decompositionLE = sm.tsa.seasonal_decompose(yLE, model='additive')
    decompositionCE = sm.tsa.seasonal_decompose(yCE, model='additive')
    figOE = decompositionOE.plot()
    figHE = decompositionHE.plot()
    figLE = decompositionLE.plot()
    figCE = decompositionCE.plot()
    plt.show()
    #TIME SERIES ARIMA MACHINE LEARNING-----------------------------------------------------------------
    warnings.filterwarnings("ignore")
    for paramOE in pdqE:
        for param_seasonalOE in seasonal_pdqE:
            try:
                modOE = sm.tsa.statespace.SARIMAX(yOE,
                                                  order=paramOE,
                                                  seasonal_order=param_seasonalOE,
                                                  enforce_stationarity=False,
                                                  enforce_invertibility=False)

                resultsOE = modOE.fit()

                print(Fore.BLACK +'ARIMA{}x{}12 - AIC:{}'.format(paramOE, param_seasonalOE,resultsOE.aic))
            except:
                continue
    #---------------------------------------------------------------------------------------------------
    warnings.filterwarnings("ignore")
    for paramHE in pdqE:
        for param_seasonalHE in seasonal_pdqE:
            try:
                modHE = sm.tsa.statespace.SARIMAX(yHE,
                                                  order=paramHE,
                                                  seasonal_order=param_seasonalHE,
                                                  enforce_stationarity=False,
                                                  enforce_invertibility=False)

                resultsHE = modHE.fit()

                print(Fore.BLACK +'ARIMA{}x{}12 - AIC:{}'.format(paramHE, param_seasonalHE,resultsHE.aic))
            except:
                continue
    #---------------------------------------------------------------------------------------------------            
    warnings.filterwarnings("ignore")
    for paramLE in pdqE:
        for param_seasonalLE in seasonal_pdqE:
            try:
                modLE = sm.tsa.statespace.SARIMAX(yLE,
                                                  order=paramLE,
                                                  seasonal_order=param_seasonalLE,
                                                  enforce_stationarity=False,
                                                  enforce_invertibility=False)

                resultsLE = modLE.fit()

                print(Fore.BLACK +'ARIMA{}x{}12 - AIC:{}'.format(paramLE, param_seasonalLE,resultsLE.aic))
            except:
                continue
    #---------------------------------------------------------------------------------------------------
    warnings.filterwarnings("ignore")
    for paramCE in pdqE:
        for param_seasonalCE in seasonal_pdqE:
            try:
                modCE = sm.tsa.statespace.SARIMAX(yCE,
                                                  order=paramCE,
                                                  seasonal_order=param_seasonalCE,
                                                  enforce_stationarity=False,
                                                  enforce_invertibility=False)

                resultsCE = modCE.fit()

                print(Fore.BLACK +'ARIMA{}x{}12 - AIC:{}'.format(paramCE, param_seasonalCE,resultsCE.aic))
            except:
                continue
    #TIME SERIES RESULTS--------------------------------------------------------------------------------
    modOE = sm.tsa.statespace.SARIMAX(yOE,
                                      order=(1, 1, 1),
                                      seasonal_order=(1, 1, 0, 12),
                                      enforce_stationarity=False,
                                      enforce_invertibility=False)
    resultsOE = modOE.fit()
    print(resultsOE.summary().tables[1])
    #---------------------------------------------------------------------------------------------------
    modHE = sm.tsa.statespace.SARIMAX(yHE,
                                      order=(1, 1, 1),
                                      seasonal_order=(1, 1, 0, 12),
                                      enforce_stationarity=False,
                                      enforce_invertibility=False)
    resultsHE = modHE.fit()
    print(resultsHE.summary().tables[1])
    #---------------------------------------------------------------------------------------------------
    modLE = sm.tsa.statespace.SARIMAX(yLE,
                                      order=(1, 1, 1),
                                      seasonal_order=(1, 1, 0, 12),
                                      enforce_stationarity=False,
                                      enforce_invertibility=False)
    resultsLE = modLE.fit()
    print(resultsLE.summary().tables[1])
    #---------------------------------------------------------------------------------------------------
    modCE = sm.tsa.statespace.SARIMAX(yCE,
                                      order=(1, 1, 1),
                                      seasonal_order=(1, 1, 0, 12),
                                      enforce_stationarity=False,
                                      enforce_invertibility=False)
    resultsCE = modCE.fit()
    print(resultsCE.summary().tables[1])
    #CANDLES AHEAD--------------------------------------------------------------------------------------
    import datetime
    if 60<LE.day+ahead:
        FLE=datetime.datetime(LE.year,LE.month+2,LE.day+ahead-60)
    elif 60>LE.day+ahead>30:
        FLE=datetime.datetime(LE.year,LE.month+1,LE.day+ahead-30)
    else:
        FLE=datetime.datetime(LE.year,LE.month,LE.day+ahead)
    print('The Last data is :'+' ',LE)
    print('The Last Predicted data is :'+' ',FLE)
    #PREDICTION CALCULATION------------------------------------------------------------------------------
    predOE = resultsOE.get_prediction(start=pd.to_datetime('2020'),end=FLE, dynamic=False)
    predHE = resultsHE.get_prediction(start=pd.to_datetime('2020'),end=FLE, dynamic=False)
    predLE = resultsLE.get_prediction(start=pd.to_datetime('2020'),end=FLE, dynamic=False)
    predCE = resultsCE.get_prediction(start=pd.to_datetime('2020'),end=FLE, dynamic=False)
    #----------------------------------------------------------------------------------------------------
    predOE_ci = predOE.conf_int()
    predHE_ci = predHE.conf_int()
    predLE_ci = predLE.conf_int()
    predCE_ci = predCE.conf_int()
    #ERROR CALCULATION-----------------------------------------------------------------------------------
    print(Fore.BLACK+'--------------------ERROR--------------------')
    yOE_forecasted = predOE.predicted_mean['2020':LE]
    yHE_forecasted = predHE.predicted_mean['2020':LE]
    yLE_forecasted = predLE.predicted_mean['2020':LE]
    yCE_forecasted = predCE.predicted_mean['2020':LE]
    #----------------------------------------------------------------------------------------------------
    yOE_truth = yOE['2020':LE]
    yHE_truth = yHE['2020':LE]
    yLE_truth = yLE['2020':LE]
    yCE_truth = yCE['2020':LE]
    #----------------------------------------------------------------------------------------------------
    mseOE = ((yOE_forecasted - yOE_truth) ** 2).mean()
    mseHE = ((yHE_forecasted - yHE_truth) ** 2).mean()
    mseLE = ((yLE_forecasted - yLE_truth) ** 2).mean()
    mseCE = ((yCE_forecasted - yCE_truth) ** 2).mean()
    #----------------------------------------------------------------------------------------------------
    err0OE = abs((((yOE_forecasted - yOE_truth)).mean()/(yOE_truth.mean()))*100)
    err0HE = abs((((yHE_forecasted - yHE_truth)).mean()/(yHE_truth.mean()))*100)
    err0LE = abs((((yLE_forecasted - yLE_truth)).mean()/(yLE_truth.mean()))*100)
    err0CE = abs((((yCE_forecasted - yCE_truth)).mean()/(yCE_truth.mean()))*100)
    #----------------------------------------------------------------------------------------------------
    errOE = np.round(err0OE,4)
    errHE = np.round(err0HE,4)
    errLE = np.round(err0LE,4)
    errCE = np.round(err0CE,4)
    #----------------------------------------------------------------------------------------------------
    print(Fore.BLACK +'The MSE of Open is {}'.format((mseOE)))
    print(Fore.BLACK +'The MSE of High is {}'.format((mseHE)))
    print(Fore.BLACK +'The MSE of Low is {}'.format((mseLE)))
    print(Fore.BLACK +'The MSE of Close is {}'.format((mseCE)))
    #----------------------------------------------------------------------------------------------------
    print(Fore.BLACK +'The RMSE of Open is {}'.format((np.sqrt(mseOE))))
    print(Fore.BLACK +'The RMSE of High is {}'.format((np.sqrt(mseHE))))
    print(Fore.BLACK +'The RMSE of Low is {}'.format((np.sqrt(mseLE))))
    print(Fore.BLACK +'The RMSE of Close is {}'.format((np.sqrt(mseCE))))
    #----------------------------------------------------------------------------------------------------
    if errOE<0.1:
        print(Fore.GREEN+'\033[1m The Error Percent of Open is \033[0m',Fore.LIGHTGREEN_EX+str(errOE)+'%')
    else:
        print (Fore.RED+'\033[1m The Error Percent of Open is \033[0m',Fore.LIGHTRED_EX+str(errOE)+'%')
    if errHE<0.1:
        print(Fore.GREEN+'\033[1m The Error Percent of High is \033[0m',Fore.LIGHTGREEN_EX+str(errHE)+'%')
    else:
        print(Fore.RED+'\033[1m The Error Percent of High is \033[0m',Fore.LIGHTRED_EX+str(errHE)+'%')
    if errLE<0.1:
        print(Fore.GREEN+'\033[1m The Error Percent of Low is \033[0m',Fore.LIGHTGREEN_EX+str(errLE)+'%')
    else:
        print(Fore.RED+'\033[1m The Error Percent of Low is \033[0m',Fore.LIGHTRED_EX+str(errLE)+'%')
    if errCE<0.1:
        print(Fore.GREEN+'\033[1m The Error Percent of Close is \033[0m',Fore.LIGHTGREEN_EX+str(errCE)+'%')
    else:
        print(Fore.RED+'\033[1m The Error Percent of Close is \033[0m',Fore.LIGHTRED_EX+str(errCE)+'%')
    #SAVE THE DATA---------------------------------------------------------------------------------------
    errordade=errordade+1
    mseES[errordade,0]=mseOE
    mseES[errordade,1]=mseHE
    mseES[errordade,2]=mseLE
    mseES[errordade,3]=mseCE
    errES[errordade,0]=errOE
    errES[errordade,1]=errHE
    errES[errordade,2]=errLE
    errES[errordade,3]=errCE
    #MEAN FOR POSITIONING--------------------------------------------------------------------------------
    if LE.day>29:
        mOE0=pd.DataFrame(predOE.predicted_mean[datetime.datetime(LE.year,LE.month+1,LE.day-29):FLE],columns=['Mean Open'])
        mHE0=pd.DataFrame(predHE.predicted_mean[datetime.datetime(LE.year,LE.month+1,LE.day-29):FLE],columns=['Mean High'])
        mLE0=pd.DataFrame(predLE.predicted_mean[datetime.datetime(LE.year,LE.month+1,LE.day-29):FLE],columns=['Mean Low'])
        mCE0=pd.DataFrame(predCE.predicted_mean[datetime.datetime(LE.year,LE.month+1,LE.day-29):FLE],columns=['Mean Close'])
    else : 
        mOE0=pd.DataFrame(predOE.predicted_mean[datetime.datetime(LE.year,LE.month,LE.day+1):FLE],columns=['Mean Open'])
        mHE0=pd.DataFrame(predHE.predicted_mean[datetime.datetime(LE.year,LE.month,LE.day+1):FLE],columns=['Mean High'])
        mLE0=pd.DataFrame(predLE.predicted_mean[datetime.datetime(LE.year,LE.month,LE.day+1):FLE],columns=['Mean Low'])
        mCE0=pd.DataFrame(predCE.predicted_mean[datetime.datetime(LE.year,LE.month,LE.day+1):FLE],columns=['Mean Close'])
    #----------------------------------------------------------------------------------------------------
    mOE = mOE0['Mean Open'].resample('D').mean()
    mHE = mHE0['Mean High'].resample('D').mean()
    mLE = mLE0['Mean Low'].resample('D').mean()
    mCE = mCE0['Mean Close'].resample('D').mean()
    #----------------------------------------------------------------------------------------------------
    predictionUMLE_meanO=mOE.median()
    predictionUMLE_meanH=mHE.median()
    predictionUMLE_meanL=mLE.median()
    predictionUMLE_meanC=mCE.median()
    #----------------------------------------------------------------------------------------------------
    TruthOE_mean = indice0OpenE.tail(1).mean()
    TruthHE_mean = indice0HighE.tail(1).mean()
    TruthLE_mean = indice0LowE.tail(1).mean()
    TruthCE_mean = indice0CloseE.tail(1).mean()
    #----------------------------------------------------------------------------------------------------
    print('\033[0m'+Fore.BLACK+'--------------------------------------------------------------')
    print(Fore.BLACK +"The Mean of the Truth data of Open is  : ","%f" %TruthOE_mean)
    print(Fore.BLACK +"The Mean of the prediction Open  is    : ","%f" %predictionUMLE_meanO)
    print('\033[0m'+Fore.BLACK+'--------------------------------------------------------------')
    print(Fore.BLACK +"The Mean of the Truth data of High is  : ","%f" %TruthHE_mean)
    print(Fore.BLACK +"The Mean of the prediction High  is    : ","%f" %predictionUMLE_meanH)
    print('\033[0m'+Fore.BLACK+'--------------------------------------------------------------')
    print(Fore.BLACK +"The Mean of the Truth data of Low is   : ","%f" %TruthLE_mean)
    print(Fore.BLACK +"The Mean of the prediction Low is      : ","%f" %predictionUMLE_meanL)
    print('\033[0m'+Fore.BLACK+'--------------------------------------------------------------')
    print(Fore.BLACK +"The Mean of the Truth data of Close is : ","%f" %TruthCE_mean)   
    print(Fore.BLACK +"The Mean of the prediction Close is    : ","%f" %predictionUMLE_meanC)
    #Positioning-----------------------------------------------------------------------------------------
    pos1=pos1+1
    #Constant Define-------------------------------------------------------------------------------------
    if timeframe1==('MN'):
        zarib = 0.01
    elif timeframe1==('W1'):
        zarib = 0.008
    elif timeframe1==('D1'):
        zarib = 0.0015
    elif timeframe1==('H4'):
        zarib = 0.0005
    elif timeframe1==('H1'):
        zarib = 0.0001
    print(Fore.BLACK +'-----------------------------',Ei,E,'---------------------------------')
    #-----------------------------------------------------------------------------------------------------
    if float(TruthOE_mean)*(1+zarib)<float(predictionUMLE_meanO):
        position[pos1,0]=+1
        print (Fore.GREEN +'\033[1m BUY \033[0m')
    elif float(TruthOE_mean)*(1-zarib)>float(predictionUMLE_meanO):
        position[pos1,0]=-1
        print (Fore.RED +'\033[5m SELL \033[5m')
    else:
        position[pos1,0]=0
        print (Fore.YELLOW +'\033[1m RANGE \033[0m')
    #----------------------------------------------------------------------------------------------------
    if float(TruthHE_mean)*(1+zarib)<float(predictionUMLE_meanH):
        position[pos1,1]=+1
        print (Fore.GREEN +'\033[1m BUY \033[0m')
    elif float(TruthHE_mean)*(1-zarib)>float(predictionUMLE_meanH):
        position[pos1,1]=-1
        print (Fore.RED +'\033[5m SELL \033[5m')
    else:
        position[pos1,1]=0
        print (Fore.YELLOW +'\033[1m RANGE \033[0m')
    #----------------------------------------------------------------------------------------------------
    if float(TruthLE_mean)*(1+zarib)<float(predictionUMLE_meanL):
        position[pos1,2]=+1
        print (Fore.GREEN +'\033[1m BUY \033[0m')
    elif float(TruthLE_mean)*(1-zarib)>float(predictionUMLE_meanL):
        position[pos1,2]=-1
        print (Fore.RED +'\033[5m SELL \033[5m')
    else:
        position[pos1,2]=0
        print (Fore.YELLOW +'\033[1m RANGE \033[0m')
    #----------------------------------------------------------------------------------------------------
    if float(TruthCE_mean)*(1+zarib)<float(predictionUMLE_meanC):
        position[pos1,3]=+1
        print (Fore.GREEN +'\033[1m BUY \033[0m')
    elif float(TruthCE_mean)*(1-zarib)>float(predictionUMLE_meanC):
        position[pos1,3]=-1
        print (Fore.RED +'\033[5m SELL \033[5m')
    else:
        position[pos1,3]=0
        print (Fore.YELLOW +'\033[1m RANGE \033[0m')
    #-----------------------------------------------------------------------------------------------------
    print('\033[0m'+Fore.BLACK+'-------------------------------------------------------------------------------')
    print('\033[0m'+Fore.BLACK+'--------------------------------End of This Currency Simulation--------------------------------------------------------')
    print('\033[0m'+Fore.BLACK+'***********************************************************************************************************************')
    #ALARM FOR EACH CURRENCY------------------------------------------------------------------------------
    for beebnumber0 in range(2):
        frequency = 2000  
        duration = 200
        winsound.Beep(frequency, duration)
#---------------------------------------------------------------------------------------------------------
#ALARM FOR END THE SIMULATION-----------------------------------------------------------------------------
for beebnumber in range(3):
    frequency = 2000  
    duration = 1000
    winsound.Beep(frequency, duration)
    
 #DATA FRAMES---------------------------------------------------------------------------------------------
currenciesD=pd.DataFrame(data=currencies,columns=['CURRENCY'])
mseESD=pd.DataFrame(data=mseES,columns=['MSE Open','MSE High','MSE Low','MSE Close'])
errESD=pd.DataFrame(data=errES,columns=['ERROR Open','ERROR High','ERROR Low','ERROR Close'])  
#Sort Data-----------------------------------------------------------------------------------------------
sort_mseO=currenciesD.join(mseESD).sort_values('MSE Open',ascending=True)
sort_mseH=sort_mseO.sort_values('MSE High',ascending=True)
sort_mseL=sort_mseH.sort_values('MSE Low',ascending=True)
sort_mseC=sort_mseL.sort_values('MSE Close',ascending=True)
sort_mse_reset=sort_mseC.reset_index()
#--------------------------------------------------------------------------------------------------------
sort_errorO=currenciesD.join(errESD).sort_values('ERROR Open',ascending=True)
sort_errorH=sort_errorO.sort_values('ERROR High',ascending=True)
sort_errorL=sort_errorH.sort_values('ERROR Low',ascending=True)
sort_errorC=sort_errorL.sort_values('ERROR Close',ascending=True)
sort_error_reset=sort_errorC.reset_index()
#--------------------------------------------------------------------------------------------------------
print('\033[0m'+Fore.BLACK+'-----------------------------------------------------------------------------')
print('\033[0m'+Fore.BLACK+'------------------The List of Simulation Sortrd by MSE-----------------------')
print(sort_mse_reset[0:int(np.round(numcurrencies*0.5))])
print('\033[0m'+Fore.BLACK+'-----------------The List of Simulation Sortrd by ERROR----------------------')
print(sort_error_reset[0:int(np.round(numcurrencies*0.5))])
#POSITION BASED -----------------------------------------------------------------------------------------
print('\033[0m'+Fore.BLACK+'-----------------------------------------------------------------------------')
print('\033[0m'+Fore.BLACK+'---------------The Positions are as below (NOT Sorted)-----------------------')
for xxx in range(numcurrencies):
    if position[xxx,0]==1 and position[xxx,1]==1 and position[xxx,2]==1 and position[xxx,3]==1:
        positionlist[xxx,0]=1
        print('\033[1m'+Fore.GREEN+'The Currency for BUY is ', currencies[xxx].rsplit(',')[0]+','+timeframe1)
    elif position[xxx,0]==-1 and position[xxx,1]==-1 and position[xxx,2]==-1 and position[xxx,3]==-1:
        positionlist[xxx,0]=-1
        print('\033[1m'+Fore.RED+'The Currency for SELL is ', currencies[xxx].rsplit(',')[0]+','+timeframe1)
#Sort Positions by MSE-----------------------------------------------------------------------------------
positionlistD=pd.DataFrame(data=positionlist,columns=['Position'])
sort_positionlist0MSE=currenciesD.join(mseESD)
sort_positionlistOMSE=sort_positionlist0MSE.join(positionlistD).sort_values('MSE Open',ascending=True)
sort_positionlistHMSE=sort_positionlistOMSE.sort_values('MSE High',ascending=True)
sort_positionlistLMSE=sort_positionlistHMSE.sort_values('MSE Low',ascending=True)
sort_positionlistCMSE=sort_positionlistLMSE.sort_values('MSE Close',ascending=True)
sort_positionlist_resetMSE=sort_positionlistCMSE.reset_index()
#Sort Positions by Error-----------------------------------------------------------------------------------
positionlistD=pd.DataFrame(data=positionlist,columns=['Position'])
sort_positionlist0ERR=currenciesD.join(errESD)
sort_positionlistOERR=sort_positionlist0ERR.join(positionlistD).sort_values('ERROR Open',ascending=True)
sort_positionlistHERR=sort_positionlistOERR.sort_values('ERROR High',ascending=True)
sort_positionlistLERR=sort_positionlistHERR.sort_values('ERROR Low',ascending=True)
sort_positionlistCERR=sort_positionlistLERR.sort_values('ERROR Close',ascending=True)
sort_positionlist_resetERR=sort_positionlistCERR.reset_index()
#OPTIMUM MSE---------------------------------------------------------------------------------------------
print('\033[0m'+Fore.BLACK+'-----------------------------------------------------------------------------')
print('\033[0m'+Fore.BLACK+'--------The Optimum Positions Based on Position & MSE as below (Sorted)------')
for common1 in range(numcurrencies):
    if sort_positionlist_resetMSE['Position'][common1]==1.0 and sort_positionlist_resetMSE['CURRENCY'][common1] in sort_mse_reset['CURRENCY'][0:int(np.round(numcurrencies*0.5))].values:
        print('\033[1m'+Fore.GREEN+'The Best Currency for BUY is ', sort_mse_reset['CURRENCY'][common1].rsplit(',')[0]+','+timeframe1)
    elif sort_positionlist_resetMSE['Position'][common1]==-1.0 and sort_positionlist_resetMSE['CURRENCY'][common1] in sort_mse_reset['CURRENCY'][0:int(np.round(numcurrencies*0.5))].values:
        print('\033[1m'+Fore.RED+'The Best Currency for SELL is ', sort_mse_reset['CURRENCY'][common1].rsplit(',')[0]+','+timeframe1)
#OPTIMUM ERROE---------------------------------------------------------------------------------------------
print('\033[0m'+Fore.BLACK+'-----------------------------------------------------------------------------')
print('\033[0m'+Fore.BLACK+'----The Optimum Positions Based on Position & Error are as below (Sorted)----')
for common2 in range(numcurrencies):
    if sort_positionlist_resetERR['Position'][common2]==1.0  and sort_positionlist_resetERR['CURRENCY'][common2] in sort_error_reset['CURRENCY'][0:int(np.round(numcurrencies*0.5))].values:
        print('\033[1m'+Fore.GREEN+'The Best Currency for BUY is ', sort_error_reset['CURRENCY'][common2].rsplit(',')[0]+','+timeframe1)
    elif sort_positionlist_resetERR['Position'][common2]==-1.0  and sort_positionlist_resetERR['CURRENCY'][common2] in sort_error_reset['CURRENCY'][0:int(np.round(numcurrencies*0.5))].values:
        print('\033[1m'+Fore.RED+'The Best Currency for SELL is ', sort_error_reset['CURRENCY'][common2].rsplit(',')[0]+','+timeframe1)
#MOST MSE & ERROR------------------------------------------------------------------------------------------
print('\033[0m'+Fore.BLACK+'-----------------------------------------------------------------------------')
print('\033[0m'+Fore.BLACK+'-The Optimum Positions Based on Position & MSE & Error are as below (Sorted)-')
for common3 in range(numcurrencies):
    if sort_positionlist_resetMSE['Position'][common3]==1.0 and sort_positionlist_resetMSE['CURRENCY'][common3] in sort_mse_reset['CURRENCY'][0:int(np.round(numcurrencies*0.5))].values and sort_positionlist_resetMSE['CURRENCY'][common3] in sort_error_reset['CURRENCY'][0:int(np.round(numcurrencies*0.5))].values:
        print('\033[1m'+Fore.GREEN+'The Best Currency for BUY is ', sort_mse_reset['CURRENCY'][common3].rsplit(',')[0]+','+timeframe1)
    elif sort_positionlist_resetMSE['Position'][common3]==-1.0 and sort_positionlist_resetMSE['CURRENCY'][common3] in sort_mse_reset['CURRENCY'][0:int(np.round(numcurrencies*0.5))].values and sort_positionlist_resetMSE['CURRENCY'][common3] in sort_error_reset['CURRENCY'][0:int(np.round(numcurrencies*0.5))].values:
        print('\033[1m'+Fore.RED+'The Best Currency for SELL is ', sort_mse_reset['CURRENCY'][common3].rsplit(',')[0]+','+timeframe1)
        
 currenciesnew=[]
for xxxx in range(numcurrencies):
    if positionlist[xxxx,0]!=0 :
        currenciesnew.append(currencies[xxxx])
print('\033[0m'+Fore.BLACK+'-----------------------------------------------------------------------------')
print('\033[0m'+Fore.BLACK+'---------------The Positions are as below (NOT Sorted)-----------------------')
print(currenciesnew)
numcurrenciesnew=len(currenciesnew)
#1step lower timeframe direction------------------------------------------------------------------------
if timeframe1==('MN'):
    timeframe1new=str('w1').upper()
elif timeframe1==('W1'):
    timeframe1new=str('d1').upper()
elif timeframe1==('D1'):
    timeframe1new=str('h4').upper()
elif timeframe1==('H4'):
    timeframe1new=str('h1').upper()
direction1new=str("C:\\Users\\ali\\AppData\\Roaming\\MetaQuotes\\Terminal\\287469DEA9630EA94D0715D755974F1B\\MQL4\\Files\\TF-"+timeframe1new)
print('The Previous Time Frame was :', timeframe1)
print('The Current Time Frame is :', timeframe1new)
#SAVING DATA--------------------------------------------------------------------------------------------
mseESnew=zeros((numcurrenciesnew,4))
errESnew=zeros((numcurrenciesnew,4))
positionnew=zeros((numcurrenciesnew,4))
positionlistnew=zeros((numcurrenciesnew,1))
pos1new=-1
errordadenew=-1
Einew=0
#-------------------------------------------------------------------------------------------------------
#SELECT THE BEST CURRENCY-------------------------------------------------------------------------------
for Enew in currenciesnew:
    Einew=Einew+1
    def find_files(filename, search_path):
       result = []

       for root, dir, files in os.walk(search_path):
          if filename in files:
             result.append(os.path.join(root, filename))
       return result
    Enewname=Enew.rsplit(',')[0]+','+timeframe1new+'.'+'csv'
    filepathEnew=find_files(Enewname,direction1new)
    print(Fore.BLACK +'--------------------------The file is in this directory------------------------')
    print(Fore.BLACK + filepathEnew[0])
    print(Enew)
    #---------------------------------------------------------------------------------------------------
    indice0OpenEnew=pd.read_csv(filepathEnew[0],usecols=(0,2))
    indice0HighEnew=pd.read_csv(filepathEnew[0],usecols=(0,3))
    indice0LowEnew=pd.read_csv(filepathEnew[0],usecols=(0,4))
    indice0CloseEnew=pd.read_csv(filepathEnew[0],usecols=(0,5))
    #---------------------------------------------------------------------------------------------------
    daynumberEnew=indice0CloseEnew.shape[0]
    todayEnew=datetime.datetime(datetime.datetime.now().year,
                             datetime.datetime.now().month,
                             datetime.datetime.now().day)
    #---------------------------------------------------------------------------------------------------
    indice0OpenEnew['Date']= pd.DataFrame(pd.date_range(end=todayEnew, periods=daynumberEnew, freq='D'))
    indice0HighEnew['Date']= pd.DataFrame(pd.date_range(end=todayEnew, periods=daynumberEnew, freq='D'))
    indice0LowEnew['Date']= pd.DataFrame(pd.date_range(end=todayEnew, periods=daynumberEnew, freq='D'))
    indice0CloseEnew['Date']= pd.DataFrame(pd.date_range(end=todayEnew, periods=daynumberEnew, freq='D'))
    #---------------------------------------------------------------------------------------------------
    print(Fore.BLACK +'----------------------------',Einew,Enewname,'---------------------------------')
    print(Fore.BLACK +'Days of Simulation is :',daynumberEnew-starttest)
    FirstEnew=indice0CloseEnew['Date'].min()
    FEnew=pd.to_datetime(FirstEnew)
    LastEnew=indice0CloseEnew['Date'].max()
    LEnew=pd.to_datetime(LastEnew)
    #REGROUP AND SET THE DATA---------------------------------------------------------------------------
    indice1OpenEnew=pd.DataFrame(data=indice0OpenEnew.values[starttest:daynumberEnew,:],columns=['Date','Open'])
    indice1HighEnew=pd.DataFrame(data=indice0HighEnew.values[starttest:daynumberEnew,:],columns=['Date','High'])
    indice1LowEnew=pd.DataFrame(data=indice0LowEnew.values[starttest:daynumberEnew,:],columns=['Date','Low'])
    indice1CloseEnew=pd.DataFrame(data=indice0CloseEnew.values[starttest:daynumberEnew,:],columns=['Date','Close'])
    #---------------------------------------------------------------------------------------------------
    indiceOpenEnew=indice1OpenEnew.sort_values('Date',ascending=True)
    indiceHighEnew=indice1HighEnew.sort_values('Date',ascending=True)
    indiceLowEnew=indice1LowEnew.sort_values('Date',ascending=True)
    indiceCloseEnew=indice1CloseEnew.sort_values('Date',ascending=True)
    #---------------------------------------------------------------------------------------------------
    indiceOpEnew = indiceOpenEnew.groupby('Date')['Open'].sum().reset_index()
    indiceHiEnew = indiceHighEnew.groupby('Date')['High'].sum().reset_index()
    indiceLoEnew = indiceLowEnew.groupby('Date')['Low'].sum().reset_index()
    indiceClEnew = indiceCloseEnew.groupby('Date')['Close'].sum().reset_index()
    #---------------------------------------------------------------------------------------------------
    indiceOEnew=indiceOpEnew.set_index('Date')
    indiceHEnew=indiceHiEnew.set_index('Date')
    indiceLEnew=indiceLoEnew.set_index('Date')
    indiceCEnew=indiceClEnew.set_index('Date')
    #---------------------------------------------------------------------------------------------------
    yOEnew = indiceOEnew['Open'].resample('D').mean()
    yHEnew = indiceHEnew['High'].resample('D').mean()
    yLEnew = indiceLEnew['Low'].resample('D').mean()
    yCEnew = indiceCEnew['Close'].resample('D').mean()
    #ARIMA TIME SERIES----------------------------------------------------------------------------------
    pEnew = dEnew = qEnew = range(0, 2)
    pdqEnew = list(itertools.product(pEnew, dEnew, qEnew))
    seasonal_pdqEnew = [(x[0], x[1], x[2], 12) for x in list(itertools.product(pEnew, dEnew, qEnew))]
    #TIME SERIES PLOTS----------------------------------------------------------------------------------
    rcParams['figure.figsize'] = 18, 8
    decompositionOEnew = sm.tsa.seasonal_decompose(yOEnew, model='additive')
    decompositionHEnew = sm.tsa.seasonal_decompose(yHEnew, model='additive')
    decompositionLEnew = sm.tsa.seasonal_decompose(yLEnew, model='additive')
    decompositionCEnew = sm.tsa.seasonal_decompose(yCEnew, model='additive')
    figOEnew = decompositionOEnew.plot()
    figHEnew = decompositionHEnew.plot()
    figLEnew = decompositionLEnew.plot()
    figCEnew = decompositionCEnew.plot()
    plt.show()
    #TIME SERIES ARIMA MACHINE LEARNING-----------------------------------------------------------------
    warnings.filterwarnings("ignore")
    for paramOEnew in pdqEnew:
        for param_seasonalOEnew in seasonal_pdqEnew:
            try:
                modOEnew = sm.tsa.statespace.SARIMAX(yOEnew,
                                                  order=paramOEnew,
                                                  seasonal_order=param_seasonalOEnew,
                                                  enforce_stationarity=False,
                                                  enforce_invertibility=False)

                resultsOEnew = modOEnew.fit()

                print(Fore.BLACK +'ARIMA{}x{}12 - AIC:{}'.format(paramOEnew, param_seasonalOEnew,resultsOEnew.aic))
            except:
                continue
    #---------------------------------------------------------------------------------------------------
    warnings.filterwarnings("ignore")
    for paramHEnew in pdqEnew:
        for param_seasonalHEnew in seasonal_pdqEnew:
            try:
                modHEnew = sm.tsa.statespace.SARIMAX(yHEnew,
                                                  order=paramHEnew,
                                                  seasonal_order=param_seasonalHEnew,
                                                  enforce_stationarity=False,
                                                  enforce_invertibility=False)

                resultsHEnew = modHEnew.fit()

                print(Fore.BLACK +'ARIMA{}x{}12 - AIC:{}'.format(paramHEnew, param_seasonalHEnew,resultsHEnew.aic))
            except:
                continue
    #---------------------------------------------------------------------------------------------------            
    warnings.filterwarnings("ignore")
    for paramLEnew in pdqEnew:
        for param_seasonalLEnew in seasonal_pdqEnew:
            try:
                modLE = sm.tsa.statespace.SARIMAX(yLEnew,
                                                  order=paramLEnew,
                                                  seasonal_order=param_seasonalLEnew,
                                                  enforce_stationarity=False,
                                                  enforce_invertibility=False)

                resultsLEnew = modLEnew.fit()

                print(Fore.BLACK +'ARIMA{}x{}12 - AIC:{}'.format(paramLEnew, param_seasonalLEnew,resultsLEnew.aic))
            except:
                continue
    #---------------------------------------------------------------------------------------------------
    warnings.filterwarnings("ignore")
    for paramCEnew in pdqEnew:
        for param_seasonalCEnew in seasonal_pdqEnew:
            try:
                modCEnew = sm.tsa.statespace.SARIMAX(yCEnew,
                                                  order=paramCEnew,
                                                  seasonal_order=param_seasonalCEnew,
                                                  enforce_stationarity=False,
                                                  enforce_invertibility=False)

                resultsCEnew = modCEnew.fit()

                print(Fore.BLACK +'ARIMA{}x{}12 - AIC:{}'.format(paramCEnew, param_seasonalCEnew,resultsCEnew.aic))
            except:
                continue
    #TIME SERIES RESULTS--------------------------------------------------------------------------------
    modOEnew = sm.tsa.statespace.SARIMAX(yOEnew,
                                      order=(1, 1, 1),
                                      seasonal_order=(1, 1, 0, 12),
                                      enforce_stationarity=False,
                                      enforce_invertibility=False)
    resultsOEnew = modOEnew.fit()
    print(resultsOEnew.summary().tables[1])
    #---------------------------------------------------------------------------------------------------
    modHEnew = sm.tsa.statespace.SARIMAX(yHEnew,
                                      order=(1, 1, 1),
                                      seasonal_order=(1, 1, 0, 12),
                                      enforce_stationarity=False,
                                      enforce_invertibility=False)
    resultsHEnew = modHEnew.fit()
    print(resultsHEnew.summary().tables[1])
    #---------------------------------------------------------------------------------------------------
    modLEnew = sm.tsa.statespace.SARIMAX(yLEnew,
                                      order=(1, 1, 1),
                                      seasonal_order=(1, 1, 0, 12),
                                      enforce_stationarity=False,
                                      enforce_invertibility=False)
    resultsLEnew = modLEnew.fit()
    print(resultsLEnew.summary().tables[1])
    #---------------------------------------------------------------------------------------------------
    modCEnew = sm.tsa.statespace.SARIMAX(yCEnew,
                                      order=(1, 1, 1),
                                      seasonal_order=(1, 1, 0, 12),
                                      enforce_stationarity=False,
                                      enforce_invertibility=False)
    resultsCEnew = modCEnew.fit()
    print(resultsCEnew.summary().tables[1])
    #CANDLES AHEAD--------------------------------------------------------------------------------------
    import datetime
    if 60<LEnew.day+ahead:
        FLEnew=datetime.datetime(LEnew.year,LEnew.month+2,LEnew.day+ahead-60)
    elif 60>LEnew.day+ahead>30:
        FLEnew=datetime.datetime(LEnew.year,LEnew.month+1,LEnew.day+ahead-30)
    else:
        FLEnew=datetime.datetime(LEnew.year,LEnew.month,LEnew.day+ahead)
    print('The Last data is :'+' ',LEnew)
    print('The Last Predicted data is :'+' ',FLEnew)
    #PREDICTION CALCULATION------------------------------------------------------------------------------
    predOEnew = resultsOEnew.get_prediction(start=pd.to_datetime('2020'),end=FLEnew, dynamic=False)
    predHEnew = resultsHEnew.get_prediction(start=pd.to_datetime('2020'),end=FLEnew, dynamic=False)
    predLEnew = resultsLEnew.get_prediction(start=pd.to_datetime('2020'),end=FLEnew, dynamic=False)
    predCEnew = resultsCEnew.get_prediction(start=pd.to_datetime('2020'),end=FLEnew, dynamic=False)
    #----------------------------------------------------------------------------------------------------
    predOEnew_ci = predOEnew.conf_int()
    predHEnew_ci = predHEnew.conf_int()
    predLEnew_ci = predLEnew.conf_int()
    predCEnew_ci = predCEnew.conf_int()
    #ERROR CALCULATION-----------------------------------------------------------------------------------
    print(Fore.BLACK+'--------------------ERROR--------------------')
    yOEnew_forecasted = predOEnew.predicted_mean['2020':LEnew]
    yHEnew_forecasted = predHEnew.predicted_mean['2020':LEnew]
    yLEnew_forecasted = predLEnew.predicted_mean['2020':LEnew]
    yCEnew_forecasted = predCEnew.predicted_mean['2020':LEnew]
    #----------------------------------------------------------------------------------------------------
    yOEnew_truth = yOEnew['2020':LEnew]
    yHEnew_truth = yHEnew['2020':LEnew]
    yLEnew_truth = yLEnew['2020':LEnew]
    yCEnew_truth = yCEnew['2020':LEnew]
    #----------------------------------------------------------------------------------------------------
    mseOEnew = ((yOEnew_forecasted - yOEnew_truth) ** 2).mean()
    mseHEnew = ((yHEnew_forecasted - yHEnew_truth) ** 2).mean()
    mseLEnew = ((yLEnew_forecasted - yLEnew_truth) ** 2).mean()
    mseCEnew = ((yCEnew_forecasted - yCEnew_truth) ** 2).mean()
    #----------------------------------------------------------------------------------------------------
    err0OEnew = abs((((yOEnew_forecasted - yOEnew_truth)).mean()/(yOEnew_truth.mean()))*100)
    err0HEnew = abs((((yHEnew_forecasted - yHEnew_truth)).mean()/(yHEnew_truth.mean()))*100)
    err0LEnew = abs((((yLEnew_forecasted - yLEnew_truth)).mean()/(yLEnew_truth.mean()))*100)
    err0CEnew = abs((((yCEnew_forecasted - yCEnew_truth)).mean()/(yCEnew_truth.mean()))*100)
    #----------------------------------------------------------------------------------------------------
    errOEnew = np.round(err0OEnew,4)
    errHEnew = np.round(err0HEnew,4)
    errLEnew = np.round(err0LEnew,4)
    errCEnew = np.round(err0CEnew,4)
    #----------------------------------------------------------------------------------------------------
    print(Fore.BLACK +'The MSE of Open is {}'.format((mseOEnew)))
    print(Fore.BLACK +'The MSE of High is {}'.format((mseHEnew)))
    print(Fore.BLACK +'The MSE of Low is {}'.format((mseLEnew)))
    print(Fore.BLACK +'The MSE of Close is {}'.format((mseCEnew)))
    #----------------------------------------------------------------------------------------------------
    print(Fore.BLACK +'The RMSE of Open is {}'.format((np.sqrt(mseOEnew))))
    print(Fore.BLACK +'The RMSE of High is {}'.format((np.sqrt(mseHEnew))))
    print(Fore.BLACK +'The RMSE of Low is {}'.format((np.sqrt(mseLEnew))))
    print(Fore.BLACK +'The RMSE of Close is {}'.format((np.sqrt(mseCEnew))))
    #----------------------------------------------------------------------------------------------------
    if errOEnew<0.1:
        print(Fore.GREEN+'\033[1m The Error Percent of Open is \033[0m',Fore.LIGHTGREEN_EX+str(errOEnew)+'%')
    else:
        print (Fore.RED+'\033[1m The Error Percent of Open is \033[0m',Fore.LIGHTRED_EX+str(errOEnew)+'%')
    if errHEnew<0.1:
        print(Fore.GREEN+'\033[1m The Error Percent of High is \033[0m',Fore.LIGHTGREEN_EX+str(errHEnew)+'%')
    else:
        print(Fore.RED+'\033[1m The Error Percent of High is \033[0m',Fore.LIGHTRED_EX+str(errHEnew)+'%')
    if errLEnew<0.1:
        print(Fore.GREEN+'\033[1m The Error Percent of Low is \033[0m',Fore.LIGHTGREEN_EX+str(errLEnew)+'%')
    else:
        print(Fore.RED+'\033[1m The Error Percent of Low is \033[0m',Fore.LIGHTRED_EX+str(errLEnew)+'%')
    if errCEnew<0.1:
        print(Fore.GREEN+'\033[1m The Error Percent of Close is \033[0m',Fore.LIGHTGREEN_EX+str(errCEnew)+'%')
    else:
        print(Fore.RED+'\033[1m The Error Percent of Close is \033[0m',Fore.LIGHTRED_EX+str(errCEnew)+'%')
    #SAVE THE DATA---------------------------------------------------------------------------------------
    errordadenew=errordadenew+1
    mseESnew[errordadenew,0]=mseOEnew
    mseESnew[errordadenew,1]=mseHEnew
    mseESnew[errordadenew,2]=mseLEnew
    mseESnew[errordadenew,3]=mseCEnew
    errESnew[errordadenew,0]=errOEnew
    errESnew[errordadenew,1]=errHEnew
    errESnew[errordadenew,2]=errLEnew
    errESnew[errordadenew,3]=errCEnew
    #MEAN FOR POSITIONING--------------------------------------------------------------------------------
    if LEnew.day>29:
        mOE0new=pd.DataFrame(predOEnew.predicted_mean[datetime.datetime(LEnew.year,LEnew.month+1,LEnew.day-29):FLEnew],columns=['Mean Open'])
        mHE0new=pd.DataFrame(predHEnew.predicted_mean[datetime.datetime(LEnew.year,LEnew.month+1,LEnew.day-29):FLEnew],columns=['Mean High'])
        mLE0new=pd.DataFrame(predLEnew.predicted_mean[datetime.datetime(LEnew.year,LEnew.month+1,LEnew.day-29):FLEnew],columns=['Mean Low'])
        mCE0new=pd.DataFrame(predCEnew.predicted_mean[datetime.datetime(LEnew.year,LEnew.month+1,LEnew.day-29):FLEnew],columns=['Mean Close'])
    else : 
        mOE0new=pd.DataFrame(predOEnew.predicted_mean[datetime.datetime(LEnew.year,LEnew.month,LEnew.day+1):FLEnew],columns=['Mean Open'])
        mHE0new=pd.DataFrame(predHEnew.predicted_mean[datetime.datetime(LEnew.year,LEnew.month,LEnew.day+1):FLEnew],columns=['Mean High'])
        mLE0new=pd.DataFrame(predLEnew.predicted_mean[datetime.datetime(LEnew.year,LEnew.month,LEnew.day+1):FLEnew],columns=['Mean Low'])
        mCE0new=pd.DataFrame(predCEnew.predicted_mean[datetime.datetime(LEnew.year,LEnew.month,LEnew.day+1):FLEnew],columns=['Mean Close'])
    #----------------------------------------------------------------------------------------------------
    mOEnew = mOE0new['Mean Open'].resample('D').mean()
    mHEnew = mHE0new['Mean High'].resample('D').mean()
    mLEnew = mLE0new['Mean Low'].resample('D').mean()
    mCEnew = mCE0new['Mean Close'].resample('D').mean()
    #----------------------------------------------------------------------------------------------------
    predictionUMLE_meanOnew=mOEnew.median()
    predictionUMLE_meanHnew=mHEnew.median()
    predictionUMLE_meanLnew=mLEnew.median()
    predictionUMLE_meanCnew=mCEnew.median()
    #----------------------------------------------------------------------------------------------------
    TruthOE_meannew = indice0OpenEnew.tail(1).mean()
    TruthHE_meannew = indice0HighEnew.tail(1).mean()
    TruthLE_meannew = indice0LowEnew.tail(1).mean()
    TruthCE_meannew = indice0CloseEnew.tail(1).mean()
    #----------------------------------------------------------------------------------------------------
    print('\033[0m'+Fore.BLACK+'--------------------------------------------------------------')
    print(Fore.BLACK +"The Mean of the Truth data of Open is  : ","%f" %TruthOE_meannew)
    print(Fore.BLACK +"The Mean of the prediction Open  is    : ","%f" %predictionUMLE_meanOnew)
    print('\033[0m'+Fore.BLACK+'--------------------------------------------------------------')
    print(Fore.BLACK +"The Mean of the Truth data of High is  : ","%f" %TruthHE_meannew)
    print(Fore.BLACK +"The Mean of the prediction High  is    : ","%f" %predictionUMLE_meanHnew)
    print('\033[0m'+Fore.BLACK+'--------------------------------------------------------------')
    print(Fore.BLACK +"The Mean of the Truth data of Low is   : ","%f" %TruthLE_meannew)
    print(Fore.BLACK +"The Mean of the prediction Low is      : ","%f" %predictionUMLE_meanLnew)
    print('\033[0m'+Fore.BLACK+'--------------------------------------------------------------')
    print(Fore.BLACK +"The Mean of the Truth data of Close is : ","%f" %TruthCE_meannew)   
    print(Fore.BLACK +"The Mean of the prediction Close is    : ","%f" %predictionUMLE_meanCnew)
    #Positioning-----------------------------------------------------------------------------------------
    pos1new=pos1new+1
    #Constant Define-------------------------------------------------------------------------------------
    if timeframe1new==('MN'):
        zaribnew = 0.01
    elif timeframe1new==('W1'):
        zaribnew = 0.008
    elif timeframe1new==('D1'):
        zaribnew = 0.0015
    elif timeframe1new==('H4'):
        zaribnew = 0.0005
    elif timeframe1new==('H1'):
        zaribnew = 0.0001
    print(Fore.BLACK +'----------------------------',Einew,Enewname,'---------------------------------')
    #-----------------------------------------------------------------------------------------------------
    if float(TruthOE_meannew)*(1+zaribnew)<float(predictionUMLE_meanOnew):
        positionnew[pos1new,0]=+1
        print (Fore.GREEN +'\033[1m BUY \033[0m')
    elif float(TruthOE_meannew)*(1-zaribnew)>float(predictionUMLE_meanOnew):
        positionnew[pos1new,0]=-1
        print (Fore.RED +'\033[5m SELL \033[5m')
    else:
        positionnew[pos1new,0]=0
        print (Fore.YELLOW +'\033[1m RANGE \033[0m')
    #----------------------------------------------------------------------------------------------------
    if float(TruthHE_meannew)*(1+zaribnew)<float(predictionUMLE_meanHnew):
        positionnew[pos1new,1]=+1
        print (Fore.GREEN +'\033[1m BUY \033[0m')
    elif float(TruthHE_meannew)*(1-zaribnew)>float(predictionUMLE_meanHnew):
        positionnew[pos1new,1]=-1
        print (Fore.RED +'\033[5m SELL \033[5m')
    else:
        positionnew[pos1new,1]=0
        print (Fore.YELLOW +'\033[1m RANGE \033[0m')
    #----------------------------------------------------------------------------------------------------
    if float(TruthLE_meannew)*(1+zaribnew)<float(predictionUMLE_meanLnew):
        positionnew[pos1new,2]=+1
        print (Fore.GREEN +'\033[1m BUY \033[0m')
    elif float(TruthLE_meannew)*(1-zaribnew)>float(predictionUMLE_meanLnew):
        positionnew[pos1new,2]=-1
        print (Fore.RED +'\033[5m SELL \033[5m')
    else:
        positionnew[pos1new,2]=0
        print (Fore.YELLOW +'\033[1m RANGE \033[0m')
    #----------------------------------------------------------------------------------------------------
    if float(TruthCE_meannew)*(1+zaribnew)<float(predictionUMLE_meanCnew):
        positionnew[pos1new,3]=+1
        print (Fore.GREEN +'\033[1m BUY \033[0m')
    elif float(TruthCE_meannew)*(1-zaribnew)>float(predictionUMLE_meanCnew):
        positionnew[pos1new,3]=-1
        print (Fore.RED +'\033[5m SELL \033[5m')
    else:
        positionnew[pos1new,3]=0
        print (Fore.YELLOW +'\033[1m RANGE \033[0m')
    #ALARM FOR EACH CURRENCY------------------------------------------------------------------------------
    for beebnumber0new in range(2):
        frequency = 2000  
        duration = 200
        winsound.Beep(frequency, duration)
    print('\033[0m'+Fore.BLACK+'-------------------------------------------------------------------------------')
    print('\033[0m'+Fore.BLACK+'--------------------------------End of This Currency Simulation-------------------------------------')
    print('\033[0m'+Fore.BLACK+'****************************************************************************************************')
#---------------------------------------------------------------------------------------------------------
#ALARM FOR END THE SIMULATION-----------------------------------------------------------------------------
for beebnumbernew in range(3):
    frequency = 2000  
    duration = 1000
    winsound.Beep(frequency, duration)

#POSITION BASED -----------------------------------------------------------------------------------------
print('\033[0m'+Fore.BLACK+'-----------------------------------------------------------------------------')
print('\033[0m'+Fore.BLACK+'---------------The Positions are as below (NOT Sorted)-----------------------')
for xxx in range(numcurrencies):
    if position[xxx,0]==1 and position[xxx,1]==1 and position[xxx,2]==1 and position[xxx,3]==1:
        positionlist[xxx,0]=1
        print('\033[1m'+Fore.GREEN+'The Currency for BUY is ', currencies[xxx].rsplit(',')[0]+','+timeframe1)
    elif position[xxx,0]==-1 and position[xxx,1]==-1 and position[xxx,2]==-1 and position[xxx,3]==-1:
        positionlist[xxx,0]=-1
        print('\033[1m'+Fore.RED+'The Currency for SELL is ', currencies[xxx].rsplit(',')[0]+','+timeframe1)
#MOST MSE & ERROR------------------------------------------------------------------------------------------
print('\033[0m'+Fore.BLACK+'-----------------------------------------------------------------------------')
print('\033[0m'+Fore.BLACK+'-The Optimum Positions Based on Position & MSE & Error are as below (Sorted)-')
for common3 in range(numcurrencies):
    if sort_positionlist_resetMSE['Position'][common3]==1.0 and sort_positionlist_resetMSE['CURRENCY'][common3] in sort_mse_reset['CURRENCY'][0:int(np.round(numcurrencies*0.5))].values and sort_positionlist_resetMSE['CURRENCY'][common3] in sort_error_reset['CURRENCY'][0:int(np.round(numcurrencies*0.5))].values:
        print('\033[1m'+Fore.GREEN+'The Best Currency for BUY is ', sort_mse_reset['CURRENCY'][common3].rsplit(',')[0]+','+timeframe1)
    elif sort_positionlist_resetMSE['Position'][common3]==-1.0 and sort_positionlist_resetMSE['CURRENCY'][common3] in sort_mse_reset['CURRENCY'][0:int(np.round(numcurrencies*0.5))].values and sort_positionlist_resetMSE['CURRENCY'][common3] in sort_error_reset['CURRENCY'][0:int(np.round(numcurrencies*0.5))].values:
        print('\033[1m'+Fore.RED+'The Best Currency for SELL is ', sort_mse_reset['CURRENCY'][common3].rsplit(',')[0]+','+timeframe1)
#--------------------------------------------------------------------------------------------------------
#--------------------------------------------------------------------------------------------------------
#POSITION BASED -----------------------------------------------------------------------------------------
for xxxnew in range(numcurrenciesnew):
    if positionnew[xxxnew,0]==1 and positionnew[xxxnew,1]==1 and positionnew[xxxnew,2]==1 and positionnew[xxxnew,3]==1:
        positionlistnew[xxxnew,0]=1
    elif positionnew[xxxnew,0]==-1 and positionnew[xxxnew,1]==-1 and positionnew[xxxnew,2]==-1 and positionnew[xxxnew,3]==-1:
        positionlistnew[xxxnew,0]=-1
#Near Optimum positios --------------------------------------------------------------------------------------
print('\033[0m'+Fore.BLUE+'-----------------------------------------------------------------------------')
print('\033[0m'+Fore.BLUE+'----------------------------------'+timeframe1new+'-----------------------------------------')
print('\033[0m'+Fore.BLUE+'---------------The Near Optimum Positions Based on'+' '+timeframe1new+'------------------------')
warnings.filterwarnings("ignore")
for common1new in range(numcurrenciesnew) :
    try:
        if statistics.mode(positionnew[common1new])==1  :
            print('\033[1m'+Fore.GREEN+'The Best Currency for BUY is ', currenciesnew[common1new].rsplit(',')[0]+','+timeframe1new)
        elif statistics.mode(positionnew[common1new])==-1 :
            print('\033[1m'+Fore.RED+'The Best Currency for SELL is ', currenciesnew[common1new].rsplit(',')[0]+','+timeframe1new)
    except:
        continue
#MOST Optimum SET IN 2 TIMEFRAME------------------------------------------------------------------------------
print('\033[0m'+Fore.BLUE+'-----------------------------------------------------------------------------')
print('\033[0m'+Fore.BLUE+'----------------The Most Optimum Positions Based on'+' '+timeframe1new+'-----------------------')
for common2new in range(numcurrenciesnew) :
    if positionlistnew[common2new]==1  :
        print('\033[1m'+Fore.GREEN+'The Best Currency for BUY is ', currenciesnew[common2new].rsplit(',')[0]+','+timeframe1new)
    elif positionlistnew[common2new]==-1 :
        print('\033[1m'+Fore.RED+'The Best Currency for SELL is ', currenciesnew[common2new].rsplit(',')[0]+','+timeframe1new)
#fundamentals--------------------------------------------------------------------------------------------------------------
url="https://cdn-nfs.faireconomy.media/ff_calendar_thisweek.csv?version=58dba8daa52e5d909ddc8dc584e09f41"
s=requests.get(url).content
page=pd.read_csv(io.StringIO(s.decode('utf-8')))
todaysampleday=datetime.datetime.now().day
todaysamplemonth=datetime.datetime.now().month
todaysampleyear=datetime.datetime.now().year
if todaysampleday<10 :
    if todaysamplemonth<10 :
        todate='0'+str(todaysamplemonth)+'-'+'0'+str(todaysampleday)+'-'+str(todaysampleyear)
    else:
        todate=str(todaysamplemonth)+'-'+'0'+str(todaysampleday)+'-'+str(todaysampleyear)
elif todaysamplemonth<10:        
    todate='0'+str(todaysamplemonth)+'-'+str(todaysampleday)+'-'+str(todaysampleyear)
else:
    todate=str(todaysamplemonth)+'-'+'0'+str(todaysampleday)+'-'+str(todaysampleyear)
hour=datetime.datetime.now().hour
if hour<12:
    hour=str(datetime.datetime.now().hour)+':00'+'am'
else:
    hour=str(datetime.datetime.now().hour-12)+':00'+'pm'
todayfilter1=page.loc[page['Date']==todate]
todayfilter2=todayfilter1.loc[todayfilter1['Impact']=='High']
print('\033[0m'+Fore.BLACK+'-----------------------------------------------------------------------------')
print('\033[0m'+Fore.BLACK+'---------------------------'+'FUNDAMENTALS IMPACT'+'-------------------------------')
print('Today is :',todate)
print('Hour is :',hour)
display(todayfilter2)
print('\033[0m'+Fore.BLACK+'-----------------------------------------------------------------------------')
print('\033[0m'+Fore.BLACK+'---------------------------'+'IMPACT for Tomorrow'+'-------------------------------')
if todaysampleday<10 :
    if todaysamplemonth<10 :
        tomorrow='0'+str(todaysamplemonth)+'-'+'0'+str(todaysampleday+1)+'-'+str(todaysampleyear)
    else:
        tomorrow=str(todaysamplemonth)+'-'+'0'+str(todaysampleday+1)+'-'+str(todaysampleyear)
elif todaysamplemonth<10:        
    tomorrow='0'+str(todaysamplemonth)+'-'+str(todaysampleday+1)+'-'+str(todaysampleyear)
else:
    tomorrow=str(todaysamplemonth)+'-'+'0'+str(todaysampleday+1)+'-'+str(todaysampleyear)
print('Tomorrow is :',tomorrow)
tomorrowfilter1=page.loc[page['Date']==tomorrow]
tomorrowfilter2=tomorrowfilter1.loc[tomorrowfilter1['Impact']=='High']
display(tomorrowfilter2)

# MULTIPLE TIMEFRAME of BEST CURRENCY

import os
import datetime
import warnings
import winsound
import itertools
import matplotlib
import statistics 
import numpy as np
import pandas as pd
from numpy import zeros
from pathlib import Path
from pylab import rcParams
import statsmodels.api as sm
import matplotlib.pyplot as plt
from colorama import Fore, Back, Style 
from bokeh.plotting import figure, show, output_file
warnings.filterwarnings("ignore")
plt.style.use('fivethirtyeight')
matplotlib.rcParams['axes.labelsize'] = 14
matplotlib.rcParams['xtick.labelsize'] = 12
matplotlib.rcParams['ytick.labelsize'] = 12
matplotlib.rcParams['text.color'] = 'k'
#DIRECTION AND SELECT CURRENCY-------------------------------------------------------------------------------------------
namestart0=input('Whats The Name of Currency ? ').upper()
#define start------------------------------------------------------------------------------------
start0=input('Enter the start date : ')
start=int(start0)
#------------------------------------------------------------------------------------------------------------------------
timeframestart1=('D1')
timeframestart2=('H4')
timeframestart3=('H1')
directionstart1=str("C:\\Users\\ali\\AppData\\Roaming\\MetaQuotes\\Terminal\\287469DEA9630EA94D0715D755974F1B\\MQL4\\Files\\TF-"+timeframestart1)
directionstart2=str("C:\\Users\\ali\\AppData\\Roaming\\MetaQuotes\\Terminal\\287469DEA9630EA94D0715D755974F1B\\MQL4\\Files\\TF-"+timeframestart2)
directionstart3=str("C:\\Users\\ali\\AppData\\Roaming\\MetaQuotes\\Terminal\\287469DEA9630EA94D0715D755974F1B\\MQL4\\Files\\TF-"+timeframestart3)
#------------------------------------------------------------------------------------------------------------------------
namestart1=namestart0+(',')+timeframestart1+('.csv')
namestart2=namestart0+(',')+timeframestart2+('.csv')
namestart3=namestart0+(',')+timeframestart3+('.csv')
#Find and import xlsx file-----------------------------------------------------------------------------------------------
def find_files(filename, search_path):
   result = []

   for root, dir, files in os.walk(search_path):
      if filename in files:
         result.append(os.path.join(root, filename))
   return result
filepath1=find_files(namestart1,directionstart1)
filepath2=find_files(namestart2,directionstart2)
filepath3=find_files(namestart3,directionstart3)
print('------------------------The file'+' '+namestart1+' '+'is in this directory---------------------')
print(filepath1[0])
print('------------------------The file'+' '+namestart2+' '+'is in this directory---------------------')
print(filepath2[0])
print('------------------------The file'+' '+namestart3+' '+'is in this directory---------------------')
print(filepath3[0])
#------------------------------------------------------------------------------------------------------------------------
indice0Close1=pd.read_csv(filepath1[0],usecols=(0,5))
indice0Close2=pd.read_csv(filepath2[0],usecols=(0,5))
indice0Close3=pd.read_csv(filepath3[0],usecols=(0,5))
#-----------------------------------------------------------------------------------------------------------------------
daynumber=indice0Close1.shape[0]
today=datetime.datetime(datetime.datetime.now().year,datetime.datetime.now().month,datetime.datetime.now().day)
indice0Close1['Date']= pd.DataFrame(pd.date_range(end=today, periods=daynumber, freq='D'))
indice0Close2['Date']= pd.DataFrame(pd.date_range(end=today, periods=daynumber, freq='D'))
indice0Close3['Date']= pd.DataFrame(pd.date_range(end=today, periods=daynumber, freq='D'))
#------------------------------------------------------------------------------------------------------------------------
print('------------------------------Data number---------------------------------')
print('Days of total data :',daynumber)
First1=indice0Close1['Date'].min()
F1=pd.to_datetime(First1)
Last1=indice0Close1['Date'].max()
L1=pd.to_datetime(Last1)
print('----------------------------First & Last date-----------------------------')
print('First date is : ' , First1)
print('Last date is  : ' , Last1)
#------------------------------------------------------------------------------------------------
indice1Close1=pd.DataFrame(data=indice0Close1.values[start:daynumber,:], columns=['Date','Close'])
indiceClose1=indice1Close1.sort_values('Date',ascending=True)
indice1Close2=pd.DataFrame(data=indice0Close2.values[start:daynumber,:], columns=['Date','Close'])
indiceClose2=indice1Close2.sort_values('Date',ascending=True)
indice1Close3=pd.DataFrame(data=indice0Close3.values[start:daynumber,:], columns=['Date','Close'])
indiceClose3=indice1Close3.sort_values('Date',ascending=True)
#-------------------------------------------------------------------------------------------------
print('----------------Data number----------------')
print('Days of Simulation :',indiceClose1.shape[0])
print('-----------The used data will be-----------')
print('Daily is :')
print(indiceClose1.head())
print('4H is :')
print(indiceClose2.head())
print('1H is :')
print(indiceClose3.head())
#-------------------------------------------------------------------------------------------------
indice0Cl = indiceClose1.groupby('Date')['Close'].sum().reset_index()
indice0C2 = indiceClose2.groupby('Date')['Close'].sum().reset_index()
indice0C3 = indiceClose3.groupby('Date')['Close'].sum().reset_index()
#----------------------------------------------------------------------------------------
indiceC1=indice0Cl.set_index('Date')
indiceC2=indice0C2.set_index('Date')
indiceC3=indice0C3.set_index('Date')
#----------------------------------------------------------------------------------------
yC1 = indiceC1['Close'].resample('D').mean()
yC2 = indiceC2['Close'].resample('D').mean()
yC3 = indiceC3['Close'].resample('D').mean()
#ARIMA TIME Series-----------------------------------------------------------------------
p = d = q = range(0, 2)
pdq = list(itertools.product(p, d, q))
seasonal_pdq = [(x[0], x[1], x[2], 12) for x in list(itertools.product(p, d, q))]
#TIME SERIES PLOTS------------------------------------------------------------------------
rcParams['figure.figsize'] = 18, 8
#TIME SERIES ARIMA MACHINE LEARNING------------------------------------------------------------------------------------
#CLOSEdaily------------------------------------------------------------------------------------------------------------
rcParams['figure.figsize']=20,10
plt.plot(indiceClose1['Date'],indiceClose1['Close'], label=namestart0+' '+timeframestart1+' '+'Close')
plt.legend(loc='upper left')
plt.xlabel('Date')
plt.ylabel('Price')
decompositionC1 = sm.tsa.seasonal_decompose(yC1, model='additive')
figC1 = decompositionC1.plot()
plt.show()

warnings.filterwarnings("ignore")

for paramC1 in pdq:
    for param_seasonalC1 in seasonal_pdq:
        try:
            modC1 = sm.tsa.statespace.SARIMAX(yC1,
                                            order=paramC1,
                                            seasonal_order=param_seasonalC1,
                                            enforce_stationarity=False,
                                            enforce_invertibility=False)

            resultsC1 = modC1.fit()

            print('ARIMA{}x{}12 - AIC:{}'.format(paramC1, param_seasonalC1, resultsC1.aic))
        except:
            continue
modC1 = sm.tsa.statespace.SARIMAX(yC1,
                                order=(1, 1, 1),
                                seasonal_order=(1, 1, 0, 12),
                                enforce_stationarity=False,
                                enforce_invertibility=False)
resultsC1 = modC1.fit()
print(resultsC1.summary().tables[1])
for beebnumber in range(2):
    frequency = 2000  
    duration = 200
    winsound.Beep(frequency, duration)
#CLOSE4h-----------------------------------------------------------------------------------------------------------------
rcParams['figure.figsize']=20,10
plt.plot(indiceClose2['Date'],indiceClose2['Close'], label=namestart0+' '+timeframestart2+' '+'Close')
plt.legend(loc='upper left')
plt.xlabel('Date')
plt.ylabel('Price')
decompositionC2 = sm.tsa.seasonal_decompose(yC2, model='additive')
figC2 = decompositionC2.plot()
plt.show()

warnings.filterwarnings("ignore")

for paramC2 in pdq:
    for param_seasonalC2 in seasonal_pdq:
        try:
            modC2 = sm.tsa.statespace.SARIMAX(yC2,
                                            order=paramC2,
                                            seasonal_order=param_seasonalC2,
                                            enforce_stationarity=False,
                                            enforce_invertibility=False)

            resultsC2 = modC2.fit()

            print('ARIMA{}x{}12 - AIC:{}'.format(paramC2, param_seasonalC2, resultsC2.aic))
        except:
            continue
modC2 = sm.tsa.statespace.SARIMAX(yC2,
                                order=(1, 1, 1),
                                seasonal_order=(1, 1, 0, 12),
                                enforce_stationarity=False,
                                enforce_invertibility=False)
resultsC2 = modC2.fit()
print(resultsC2.summary().tables[1])
for beebnumber in range(2):
    frequency = 2000  
    duration = 200
    winsound.Beep(frequency, duration)
#CLOSE1h---------------------------------------------------------------------------------------------------------------
rcParams['figure.figsize']=20,10
plt.plot(indiceClose3['Date'],indiceClose3['Close'], label=namestart0+' '+timeframestart3+' '+'Close')
plt.legend(loc='upper left')
plt.xlabel('Date')
plt.ylabel('Price')
decompositionC3 = sm.tsa.seasonal_decompose(yC3, model='additive')
figC3 = decompositionC3.plot()
plt.show()

warnings.filterwarnings("ignore")

for paramC3 in pdq:
    for param_seasonalC3 in seasonal_pdq:
        try:
            modC3 = sm.tsa.statespace.SARIMAX(yC3,
                                            order=paramC3,
                                            seasonal_order=param_seasonalC3,
                                            enforce_stationarity=False,
                                            enforce_invertibility=False)

            resultsC3 = modC3.fit()

            print('ARIMA{}x{}12 - AIC:{}'.format(paramC3, param_seasonalC3, resultsC3.aic))
        except:
            continue
modC3 = sm.tsa.statespace.SARIMAX(yC3,
                                order=(1, 1, 1),
                                seasonal_order=(1, 1, 0, 12),
                                enforce_stationarity=False,
                                enforce_invertibility=False)
resultsC3 = modC3.fit()
print(resultsC3.summary().tables[1])
#Alarm for End this session----------------------------------------------
for beebnumber in range(3):
    frequency = 2000  
    duration = 1000
    winsound.Beep(frequency, duration)
#define days ahead--------------------------------------------------------------------------------------------------
ahead0=input('Enter the candles ahead for prediction : ')
ahead=int(ahead0)
#End Time definition------------------------------------------------------------------------------------------------
import datetime
if 60<L1.day+ahead:
    FL1=datetime.datetime(L1.year,L1.month+2,L1.day+ahead-60)
elif 60>L1.day+ahead>30:
    FL1=datetime.datetime(L1.year,L1.month+1,L1.day+ahead-30)
else:
    FL1=datetime.datetime(L1.year,L1.month,L1.day+ahead)
print(L1)
print(FL1)
#PLOTTING OF TOTAL & PREDICTION DATA -------------------------------------------------------------------------------
predC1 = resultsC1.get_prediction(start=pd.to_datetime('2020'),end=FL1, dynamic=False)
predC2 = resultsC2.get_prediction(start=pd.to_datetime('2020'),end=FL1, dynamic=False)
predC3 = resultsC3.get_prediction(start=pd.to_datetime('2020'),end=FL1, dynamic=False)

predC1_ci = predC1.conf_int()
predC2_ci = predC2.conf_int()
predC3_ci = predC3.conf_int()

#Daily plot-------------------------------------------------------------------------------------------------
axC1 = yC1['2020':].plot(label=str(namestart0+'  '+timeframestart1))
predC1.predicted_mean.plot(ax=axC1, label=(str(ahead) + " " + 'Candles ahead'), alpha=.7, figsize=(14, 7))
plt.xlabel('Time D1')
plt.ylabel('Close')
plt.legend(loc='upper left')
plt.show()
#4H plot----------------------------------------------------------------------------------------------------
axC2 = yC2['2020':].plot(label=str(namestart0+'  '+timeframestart2))
predC2.predicted_mean.plot(ax=axC2, label=(str(ahead) + " " + 'Candles ahead'), alpha=.7, figsize=(14, 7))
plt.xlabel('Time H4')
plt.ylabel('Close')
plt.legend(loc='upper left')
plt.show()
#1H plot----------------------------------------------------------------------------------------------------
axC3 = yC3['2020':].plot(label=str(namestart0+'  '+timeframestart3))
predC3.predicted_mean.plot(ax=axC3, label=(str(ahead) + " " + 'Candles ahead'), alpha=.7, figsize=(14, 7))
plt.xlabel('Time H1')
plt.ylabel('Close')
plt.legend(loc='upper left')
plt.show()

mC01=pd.DataFrame(predC1.predicted_mean[datetime.datetime(L1.year,L1.month,L1.day):FL1],columns=['Mean Close Daily'])
mC1 = mC01['Mean Close Daily'].resample('D').mean()
mC02=pd.DataFrame(predC2.predicted_mean[datetime.datetime(L1.year,L1.month,L1.day):FL1],columns=['Mean Close 4H'])
mC2 = mC02['Mean Close 4H'].resample('D').mean()
mC03=pd.DataFrame(predC3.predicted_mean[datetime.datetime(L1.year,L1.month,L1.day):FL1],columns=['Mean Close 1H'])
mC3 = mC03['Mean Close 1H'].resample('D').mean()
#DATAFRAME OF O-H-L-C---------------------------------------------------------------------------------------
mC11=pd.DataFrame(mC1.values,columns=['Mean Close Daily'])
mC22=pd.DataFrame(mC2.values,columns=['Mean Close 4H'])
mC33=pd.DataFrame(mC3.values,columns=['Mean Close 1H'])
#PREDICTION PLOT-----------------------------------------------------------------------------------------------------
#PREDICTION PLOT FOR Daily-------------------------------------------------------------------------------------------
#MEAN CLOSE----------------------------------------------------------------------------------------------------------
print('\033[0m'+Fore.BLACK+'---------------------------------------------------'+namestart1+'-----------------------------------------------------------')
eC1=np.array(mC11.values)
plt.subplot(3,1,1)
plt.plot(mC1,'-o',color='blue',markersize=10, label=namestart1)
for i1, j1 in enumerate(eC1):
    if 61<L1.day+i1:
        plt.text((datetime.datetime(L1.year,L1.month+2,L1.day+i1-59)), j1, "%f" %j1, fontsize=15, ha="center", va="bottom")
    elif 62>L1.day+i1>31:
        plt.text((datetime.datetime(L1.year,L1.month+1,L1.day+i1-29)), j1, "%f" %j1, fontsize=15, ha="center", va="bottom")
    else:
        plt.text((datetime.datetime(L1.year,L1.month,L1.day+i1)), j1, "%f" %j1, fontsize=15, ha="center", va="bottom")
plt.xlim(datetime.datetime(L1.year,L1.month,L1.day-1),datetime.datetime(FL1.year,FL1.month,FL1.day))
plt.ylim(ymin=0.999*mC11.values.min(),ymax=1.001*mC11.values.max())
plt.grid(True)
plt.legend(loc='upper left')
plt.show()
#PREDICTION PLOT FOR 4H----------------------------------------------------------------------------------------------
#MEAN CLOSE----------------------------------------------------------------------------------------------------------
print('\033[0m'+Fore.BLACK+'---------------------------------------------------'+namestart2+'-----------------------------------------------------------')
eC2=np.array(mC22.values)
plt.subplot(3,1,2)
plt.plot(mC2,'-o',color='green',markersize=10,label=namestart2)
for i2, j2 in enumerate(eC2):
    if 61<L1.day+i2:
        plt.text((datetime.datetime(L1.year,L1.month+2,L1.day+i2-59)), j2, "%f" %j2, fontsize=15, ha="center", va="bottom")
    elif 62>L1.day+i2>31:
        plt.text((datetime.datetime(L1.year,L1.month+1,L1.day+i2-29)), j2, "%f" %j2, fontsize=15, ha="center", va="bottom")
    else:
        plt.text((datetime.datetime(L1.year,L1.month,L1.day+i2)), j2, "%f" %j2, fontsize=15, ha="center", va="bottom")
plt.xlim(datetime.datetime(L1.year,L1.month,L1.day-1),datetime.datetime(FL1.year,FL1.month,FL1.day))
plt.ylim(ymin=0.999*mC22.values.min(),ymax=1.001*mC22.values.max())
plt.grid(True)
plt.legend(loc='upper left')
plt.show()
#PREDICTION PLOT FOR 1H----------------------------------------------------------------------------------------------
#MEAN CLOSE----------------------------------------------------------------------------------------------------------
print('\033[0m'+Fore.BLACK+'---------------------------------------------------'+namestart3+'-----------------------------------------------------------')
eC3=np.array(mC33.values)
plt.subplot(3,1,3)
plt.plot(mC3,'-o',color='red',markersize=10,label=namestart3)
for i3, j3 in enumerate(eC3):
    if 61<L1.day+i3:
        plt.text((datetime.datetime(L1.year,L1.month+2,L1.day+i3-59)), j3, "%f" %j3, fontsize=15, ha="center", va="bottom")
    elif 62>L1.day+i3>31:
        plt.text((datetime.datetime(L1.year,L1.month+1,L1.day+i3-29)), j3, "%f" %j3, fontsize=15, ha="center", va="bottom")
    else:
        plt.text((datetime.datetime(L1.year,L1.month,L1.day+i3)), j3, "%f" %j3, fontsize=15, ha="center", va="bottom")
plt.xlim(datetime.datetime(L1.year,L1.month,L1.day-1),datetime.datetime(FL1.year,FL1.month,FL1.day))
plt.ylim(ymin=0.999*mC33.values.min(),ymax=1.001*mC33.values.max())
plt.grid(True)
plt.legend(loc='upper left')
plt.show()
